{
 "cells": [
  {
   "cell_type": "markdown",
   "id": "e2301118",
   "metadata": {},
   "source": [
    "### Introduction  \n",
    "The analysis below will try to answer the volatility of airfare price, the closer departure date comes.  \n",
    "The hypotesis is that the closer the departure date comes prices will be increasing.  \n",
    "The exception to the rule is a short period from the departure date, where aircarrier companies try to cut fixed costs by offering cheaper seats.  \n",
    "  \n",
    "The dataset is based on a sample collected between January and May of 2019."
   ]
  },
  {
   "cell_type": "markdown",
   "id": "ff26f6b0",
   "metadata": {},
   "source": [
    "### 1. IMPORTING NECESSARY PACKAGES  \n",
    "The project will require:  \n",
    " - NumPy and Pandas for Data Frames  \n",
    " - Matplotlib for visualization purposes"
   ]
  },
  {
   "cell_type": "code",
   "execution_count": 1,
   "id": "f8cec633",
   "metadata": {},
   "outputs": [],
   "source": [
    "import numpy as np\n",
    "import pandas as pd\n",
    "import matplotlib.pyplot as plt"
   ]
  },
  {
   "cell_type": "markdown",
   "id": "e7d1d049",
   "metadata": {},
   "source": [
    "### 2. PREPARING THE DATA"
   ]
  },
  {
   "cell_type": "code",
   "execution_count": 2,
   "id": "2f53356f",
   "metadata": {},
   "outputs": [],
   "source": [
    "# Loading data\n",
    "airfares = pd.read_csv(r\"C:\\Users\\Gordan\\Desktop\\Data Analyst\\Projects\\Airfare volatility\\airfares.csv\")"
   ]
  },
  {
   "cell_type": "code",
   "execution_count": 3,
   "id": "90250897",
   "metadata": {
    "scrolled": true
   },
   "outputs": [
    {
     "data": {
      "text/html": [
       "<div>\n",
       "<style scoped>\n",
       "    .dataframe tbody tr th:only-of-type {\n",
       "        vertical-align: middle;\n",
       "    }\n",
       "\n",
       "    .dataframe tbody tr th {\n",
       "        vertical-align: top;\n",
       "    }\n",
       "\n",
       "    .dataframe thead th {\n",
       "        text-align: right;\n",
       "    }\n",
       "</style>\n",
       "<table border=\"1\" class=\"dataframe\">\n",
       "  <thead>\n",
       "    <tr style=\"text-align: right;\">\n",
       "      <th></th>\n",
       "      <th>observation_date</th>\n",
       "      <th>observation_time</th>\n",
       "      <th>origin</th>\n",
       "      <th>destination</th>\n",
       "      <th>market</th>\n",
       "      <th>carrier</th>\n",
       "      <th>flight_number</th>\n",
       "      <th>departure_date</th>\n",
       "      <th>departure_time</th>\n",
       "      <th>fare_basis</th>\n",
       "      <th>booking_class</th>\n",
       "      <th>price_exc_tax</th>\n",
       "      <th>tax</th>\n",
       "      <th>price</th>\n",
       "      <th>currency</th>\n",
       "    </tr>\n",
       "  </thead>\n",
       "  <tbody>\n",
       "    <tr>\n",
       "      <th>0</th>\n",
       "      <td>2019-01-12</td>\n",
       "      <td>02:33:00</td>\n",
       "      <td>BOS</td>\n",
       "      <td>LGA</td>\n",
       "      <td>BOSLGA</td>\n",
       "      <td>BB</td>\n",
       "      <td>2118</td>\n",
       "      <td>2019-05-02</td>\n",
       "      <td>14:00:00</td>\n",
       "      <td>B63AA</td>\n",
       "      <td>B</td>\n",
       "      <td>63.26</td>\n",
       "      <td>19.04</td>\n",
       "      <td>82.3</td>\n",
       "      <td>USD</td>\n",
       "    </tr>\n",
       "    <tr>\n",
       "      <th>1</th>\n",
       "      <td>2019-01-12</td>\n",
       "      <td>02:36:00</td>\n",
       "      <td>BOS</td>\n",
       "      <td>LGA</td>\n",
       "      <td>BOSLGA</td>\n",
       "      <td>BB</td>\n",
       "      <td>2118</td>\n",
       "      <td>2019-05-12</td>\n",
       "      <td>14:00:00</td>\n",
       "      <td>B63AA</td>\n",
       "      <td>B</td>\n",
       "      <td>63.26</td>\n",
       "      <td>19.04</td>\n",
       "      <td>82.3</td>\n",
       "      <td>USD</td>\n",
       "    </tr>\n",
       "    <tr>\n",
       "      <th>2</th>\n",
       "      <td>2019-01-12</td>\n",
       "      <td>02:33:00</td>\n",
       "      <td>BOS</td>\n",
       "      <td>LGA</td>\n",
       "      <td>BOSLGA</td>\n",
       "      <td>BB</td>\n",
       "      <td>2118</td>\n",
       "      <td>2019-05-01</td>\n",
       "      <td>14:00:00</td>\n",
       "      <td>B63AA</td>\n",
       "      <td>B</td>\n",
       "      <td>63.26</td>\n",
       "      <td>19.04</td>\n",
       "      <td>82.3</td>\n",
       "      <td>USD</td>\n",
       "    </tr>\n",
       "    <tr>\n",
       "      <th>3</th>\n",
       "      <td>2019-01-12</td>\n",
       "      <td>02:34:00</td>\n",
       "      <td>BOS</td>\n",
       "      <td>LGA</td>\n",
       "      <td>BOSLGA</td>\n",
       "      <td>BB</td>\n",
       "      <td>2118</td>\n",
       "      <td>2019-05-06</td>\n",
       "      <td>14:00:00</td>\n",
       "      <td>B63AA</td>\n",
       "      <td>B</td>\n",
       "      <td>63.26</td>\n",
       "      <td>19.04</td>\n",
       "      <td>82.3</td>\n",
       "      <td>USD</td>\n",
       "    </tr>\n",
       "    <tr>\n",
       "      <th>4</th>\n",
       "      <td>2019-01-12</td>\n",
       "      <td>02:35:00</td>\n",
       "      <td>BOS</td>\n",
       "      <td>LGA</td>\n",
       "      <td>BOSLGA</td>\n",
       "      <td>BB</td>\n",
       "      <td>2118</td>\n",
       "      <td>2019-05-07</td>\n",
       "      <td>14:00:00</td>\n",
       "      <td>B63AA</td>\n",
       "      <td>B</td>\n",
       "      <td>63.26</td>\n",
       "      <td>19.04</td>\n",
       "      <td>82.3</td>\n",
       "      <td>USD</td>\n",
       "    </tr>\n",
       "  </tbody>\n",
       "</table>\n",
       "</div>"
      ],
      "text/plain": [
       "  observation_date observation_time origin destination  market carrier  \\\n",
       "0       2019-01-12         02:33:00    BOS         LGA  BOSLGA      BB   \n",
       "1       2019-01-12         02:36:00    BOS         LGA  BOSLGA      BB   \n",
       "2       2019-01-12         02:33:00    BOS         LGA  BOSLGA      BB   \n",
       "3       2019-01-12         02:34:00    BOS         LGA  BOSLGA      BB   \n",
       "4       2019-01-12         02:35:00    BOS         LGA  BOSLGA      BB   \n",
       "\n",
       "   flight_number departure_date departure_time fare_basis booking_class  \\\n",
       "0           2118     2019-05-02       14:00:00      B63AA             B   \n",
       "1           2118     2019-05-12       14:00:00      B63AA             B   \n",
       "2           2118     2019-05-01       14:00:00      B63AA             B   \n",
       "3           2118     2019-05-06       14:00:00      B63AA             B   \n",
       "4           2118     2019-05-07       14:00:00      B63AA             B   \n",
       "\n",
       "   price_exc_tax    tax  price currency  \n",
       "0          63.26  19.04   82.3      USD  \n",
       "1          63.26  19.04   82.3      USD  \n",
       "2          63.26  19.04   82.3      USD  \n",
       "3          63.26  19.04   82.3      USD  \n",
       "4          63.26  19.04   82.3      USD  "
      ]
     },
     "execution_count": 3,
     "metadata": {},
     "output_type": "execute_result"
    }
   ],
   "source": [
    "# Get general overview of the data\n",
    "airfares.head()"
   ]
  },
  {
   "cell_type": "code",
   "execution_count": 4,
   "id": "30202823",
   "metadata": {},
   "outputs": [
    {
     "name": "stdout",
     "output_type": "stream",
     "text": [
      "observation_date    0.00000\n",
      "observation_time    0.00000\n",
      "origin              0.00000\n",
      "destination         0.00000\n",
      "market              0.00000\n",
      "carrier             0.00000\n",
      "flight_number       0.00000\n",
      "departure_date      0.00000\n",
      "departure_time      0.00000\n",
      "fare_basis          0.00000\n",
      "booking_class       0.00000\n",
      "price_exc_tax       0.00498\n",
      "tax                 0.00498\n",
      "price               0.00000\n",
      "currency            0.00000\n",
      "dtype: float64\n"
     ]
    }
   ],
   "source": [
    "# Check if there are any null values and if any what is the mean to evaluate any action is needed\n",
    "print(airfares.isnull().mean())"
   ]
  },
  {
   "cell_type": "code",
   "execution_count": 5,
   "id": "1229036d",
   "metadata": {},
   "outputs": [
    {
     "data": {
      "text/plain": [
       "array(['USD'], dtype=object)"
      ]
     },
     "execution_count": 5,
     "metadata": {},
     "output_type": "execute_result"
    }
   ],
   "source": [
    "# Check how many currencies are there, as for this analysis it is important they are unified (in this case USD)\n",
    "airfares['currency'].unique()"
   ]
  },
  {
   "cell_type": "code",
   "execution_count": 6,
   "id": "9ab9a863",
   "metadata": {},
   "outputs": [],
   "source": [
    "# It is very important properly format date as months bellow 12 get mistaken for days.\n",
    "airfares['observation_date'] = pd.to_datetime(airfares['observation_date'], dayfirst=True)\n",
    "airfares['departure_date'] = pd.to_datetime(airfares['departure_date'], dayfirst=True)"
   ]
  },
  {
   "cell_type": "markdown",
   "id": "64c356a9",
   "metadata": {},
   "source": [
    "### 3. CALCULATING AND PLOTING FINDINGS"
   ]
  },
  {
   "cell_type": "code",
   "execution_count": 7,
   "id": "5892691d",
   "metadata": {},
   "outputs": [],
   "source": [
    "# calculating difference between observation date and departure date and making sure it is formated as days, not just simple number\n",
    "airfares['number_of_days_out'] = (airfares['departure_date'] - airfares['observation_date']).dt.days"
   ]
  },
  {
   "cell_type": "code",
   "execution_count": 8,
   "id": "8b2f11de",
   "metadata": {},
   "outputs": [],
   "source": [
    "# calculating volatility of price based on number of days out\n",
    "volatility_by_number_of_days_out = airfares.groupby('number_of_days_out')['price'].std()"
   ]
  },
  {
   "cell_type": "code",
   "execution_count": 9,
   "id": "9f59d9e4",
   "metadata": {},
   "outputs": [
    {
     "data": {
      "image/png": "[encoded data removed]",
      "text/plain": [
       "<Figure size 640x480 with 1 Axes>"
      ]
     },
     "metadata": {},
     "output_type": "display_data"
    }
   ],
   "source": [
    "plt.plot(volatility_by_number_of_days_out)\n",
    "plt.xlabel('Number of Days Out')\n",
    "plt.ylabel('Volatility')\n",
    "plt.title('Volatility of Airfares by Number of Days Out')\n",
    "plt.show()"
   ]
  },
  {
   "cell_type": "markdown",
   "id": "8003c7d3",
   "metadata": {},
   "source": [
    "### Conclusion  \n",
    "Generally speaking, the prices are more volatile the closer they get to the departure date.  \n",
    "\n",
    "The closer to the departure date, the more expensive the price. More seats tend to fill the closer to the departure date. Planning trips several months in advance is generally a luxury for the majority of consumers.\n",
    "As more tickets sell for any given flight, the demand increases creating a jump in ticket prices.\n",
    "\n",
    "The exception to the forementioned rule is around 30 days before departure. Some cheaper classes of airfares are only available 30 days before departure. Airlines need to make a minimum amount of money per passenger to accommodate the time, space, and fuel used for the aircraft. Therefore, whatever seats are available in short period before departure needs to be sold cheaper to encourage full occupancy."
   ]
  },
  {
   "cell_type": "code",
   "execution_count": null,
   "id": "7eb9f121",
   "metadata": {},
   "outputs": [],
   "source": []
  }
 ],
 "metadata": {
  "kernelspec": {
   "display_name": "Python 3 (ipykernel)",
   "language": "python",
   "name": "python3"
  },
  "language_info": {
   "codemirror_mode": {
    "name": "ipython",
    "version": 3
   },
   "file_extension": ".py",
   "mimetype": "text/x-python",
   "name": "python",
   "nbconvert_exporter": "python",
   "pygments_lexer": "ipython3",
   "version": "3.11.3"
  }
 },
 "nbformat": 4,
 "nbformat_minor": 5
}
